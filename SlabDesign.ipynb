{
 "cells": [
  {
   "cell_type": "markdown",
   "id": "3948ebd7-bbb7-47c2-826e-b3f5eca090df",
   "metadata": {},
   "source": [
    "## Tee beam Girder Design USing python\n"
   ]
  },
  {
   "cell_type": "code",
   "execution_count": 1,
   "id": "ec57f546-a318-4cb9-ab71-f7082c05e6ed",
   "metadata": {},
   "outputs": [
    {
     "name": "stdout",
     "output_type": "stream",
     "text": [
      "Deck Slab Design\n",
      "--------------------------------------------\n"
     ]
    }
   ],
   "source": [
    "#Tee beam Girder Design USing python\n",
    "print(\"Deck Slab Design\")\n",
    "print('-'*44)\n",
    "#importing all libraries \n",
    "import numpy as np\n",
    "import matplotlib.pyplot as plt\n",
    "import seaborn as sns\n",
    "import pandas as pd\n",
    "#Asssum..........................................................\n",
    "thickness_of_slab =80 #in mm\n",
    "#permissible Stresses\n",
    "st=200#N/mm2\n",
    "Q=1.1#\n",
    "j=0.9"
   ]
  },
  {
   "cell_type": "code",
   "execution_count": 2,
   "id": "cc720cc0-b5ea-41dd-b82f-4889760563b7",
   "metadata": {},
   "outputs": [
    {
     "name": "stdin",
     "output_type": "stream",
     "text": [
      "Grade of concrete 25\n",
      "Grade of steel  415\n",
      "carriageway in m 3\n",
      "Span of the bridge m 3\n",
      "No of girders  3\n",
      "width of bearing mm  20\n",
      "Average thickness of the wearing coat mm  20\n"
     ]
    }
   ],
   "source": [
    "##### Take inpute or GET User Inputes\n",
    "while True:\n",
    "    try:\n",
    "        cg=int(input(\"Grade of concrete\"))\n",
    "        sg=int(input(\"Grade of steel \"))\n",
    "        crg=float(input(\"carriageway in m\"))\n",
    "        sp=int(input(\"Span of the bridge m\"))\n",
    "        no_girders=int(input(\"No of girders \"))\n",
    "        bearing=int(input(\"width of bearing mm \"))\n",
    "        Awc=int(input(\"Average thickness of the wearing coat mm \"))\n",
    "       \n",
    "    except:\n",
    "        print(\"Data Input Error ! Try Again.\")\n",
    "    else:\n",
    "        break"
   ]
  },
  {
   "cell_type": "code",
   "execution_count": 17,
   "id": "6a37fbef-9bb4-412f-88d3-5ac7d2be75cc",
   "metadata": {},
   "outputs": [
    {
     "name": "stdout",
     "output_type": "stream",
     "text": [
      "overall depth of slab 240 mm\n",
      "Effective depth of the slab 200.0 mm\n"
     ]
    }
   ],
   "source": [
    "#calculating Depth of Slab and Effective depth of slab\n",
    "def depth_of_slab(thickness_of_slab,sp):\n",
    "    global Ed\n",
    "    global overall_depth\n",
    "    overall_depth=thickness_of_slab*sp\n",
    "    print(\"overall depth of slab\",overall_depth,\"mm\")\n",
    "    bc=20/2+30#bar centr and clear cover \n",
    "    Ed=overall_depth-bc\n",
    "    \n",
    "    print(\"Effective depth of the slab\",Ed,\"mm\")\n",
    "          \n",
    "depth_of_slab(thickness_of_slab,sp)\n"
   ]
  },
  {
   "cell_type": "code",
   "execution_count": 18,
   "id": "4a2ad329-d1ab-450a-af1b-65dfb3e48adc",
   "metadata": {},
   "outputs": [
    {
     "name": "stdout",
     "output_type": "stream",
     "text": [
      "Effective span is 3.02 m\n"
     ]
    }
   ],
   "source": [
    "#calculate effective span\n",
    "def effective_span(Ed,bearing,sp):\n",
    "    global Es,l\n",
    "    Es=sp+(Ed/1000)#\n",
    "    l=sp+(bearing/1000)\n",
    "    print(\"Effective span is\",l,\"m\")##effective span\n",
    "\n",
    "effective_span(Ed,bearing,sp)"
   ]
  },
  {
   "cell_type": "code",
   "execution_count": 5,
   "id": "f0dc4476-413f-4c09-9aa3-1935f34fa654",
   "metadata": {},
   "outputs": [
    {
     "name": "stdout",
     "output_type": "stream",
     "text": [
      "dead_load_slab 5.76 kN/m2\n",
      "dead load wearing coat 0.44 kN/m2\n",
      "Total Dead Load 7 kN/m2\n"
     ]
    }
   ],
   "source": [
    "#calculate dead load bending movement and shear force\n",
    "\n",
    "def dead_load(overall_depth,Awc):\n",
    "    global W\n",
    "    dead_load_slab=(overall_depth/1000)*24\n",
    "    print(\"dead_load_slab\",dead_load_slab,\"kN/m2\")\n",
    "    dead_load_wc=(Awc/1000)*22\n",
    "    print(\"dead load wearing coat\",dead_load_wc,\"kN/m2\")\n",
    "    import math\n",
    "    W=dead_load_slab+dead_load_wc\n",
    "    print(\"Total Dead Load\",math.ceil(W),\"kN/m2\")\n",
    "    \n",
    "dead_load(overall_depth,Awc)\n"
   ]
  },
  {
   "cell_type": "code",
   "execution_count": 6,
   "id": "2c73503c-3f4a-4c41-81fc-742c207d6f2a",
   "metadata": {},
   "outputs": [
    {
     "name": "stdout",
     "output_type": "stream",
     "text": [
      "dead load bending movement 1 kN/m2\n",
      "dead load shear force 10 kN/m2\n"
     ]
    }
   ],
   "source": [
    "#calculate Dead load bending movement and dead load shear force\n",
    "import math\n",
    "def dead_bending_movement(l,W):\n",
    "    global DLL\n",
    "    DLL=((1**2)*W)/8\n",
    "    print(\"dead load bending movement\",math.ceil(DLL),\"kN/m2\")\n",
    "    #dead Load shear force\n",
    "    dsf=(W*l)/2\n",
    "    print(\"dead load shear force\",math.ceil(dsf),\"kN/m2\")\n",
    "    \n",
    "dead_bending_movement(l,W)"
   ]
  },
  {
   "cell_type": "code",
   "execution_count": 7,
   "id": "e5d8ed53-a139-42d3-a5f2-1ec38888c300",
   "metadata": {},
   "outputs": [
    {
     "name": "stdout",
     "output_type": "stream",
     "text": [
      "width of deck slab 5.0\n",
      "2.92\n"
     ]
    }
   ],
   "source": [
    "#calculate live load bending def \n",
    "def width_deckslab(crg):\n",
    "    global B\n",
    "    B=crg+(2*1)\n",
    "    print(\"width of deck slab\",B)\n",
    "width_deckslab(crg)\n",
    "#find k=B/k\n",
    "k1=round(B/l,1)\n",
    "if k1==0.1:\n",
    "    alpha=0.40\n",
    "elif k1==0.2:\n",
    "    alpha=0.80\n",
    "elif k1==0.3:\n",
    "    alpha=1.16\n",
    "elif k1==0.4:\n",
    "    alpha=1.48\n",
    "elif k1==0.5:\n",
    "    alpha=1.72\n",
    "elif k1==0.6:\n",
    "    alpha=1.96\n",
    "elif k1==0.7:\n",
    "    alpha=2.12\n",
    "elif k1==0.8:\n",
    "    alpha=2.24\n",
    "elif k1==0.9:\n",
    "    alpha=2.36\n",
    "elif k1==1.0:\n",
    "    alpha=2.48\n",
    "elif k1==1.0:\n",
    "    alpha=2.60\n",
    "elif k1==1.1:\n",
    "    alpha=2.64\n",
    "elif k1==1.2:\n",
    "    alpha=2.68\n",
    "elif k1==1.3:\n",
    "    alpha=2.72\n",
    "elif k1==1.4:\n",
    "    alpha=2.80\n",
    "elif k1==1.5:\n",
    "    alpha=2.84\n",
    "elif k1==1.6:\n",
    "    alpha=2.88\n",
    "elif k1==1.7:\n",
    "    alpha=2.92\n",
    "elif k1==1.8:\n",
    "    alpha=2.96\n",
    "elif k1==1.9:\n",
    "    alpha=3\n",
    "else:\n",
    "    alpha=3#above all 3\n",
    "print(alpha)"
   ]
  },
  {
   "cell_type": "code",
   "execution_count": 8,
   "id": "4db3bd2d-8ef9-4a21-9fe2-14ca86b81cc6",
   "metadata": {},
   "outputs": [
    {
     "name": "stdout",
     "output_type": "stream",
     "text": [
      "effective width of dispersion for single vehicle 3.09 m\n",
      "effective width of dispersion for double vehicle 6.22 m\n",
      "effective length of dispersion  4.12 m\n",
      "wheel load will have disper area ===== 25.635876 m\n"
     ]
    }
   ],
   "source": [
    "#conc IRC AA loading for tracked vahicles\n",
    "width_of_tract=0.85#meter\n",
    "Space_bt_two_tracs=1.2#meter\n",
    "total_load_of_tracked=700#kN/\n",
    "area_of_vehicles=3.6#m\n",
    "total_len_of_vec=7.2#m\n",
    "x=l/2#center of gravity distance\n",
    "b1=width_of_tract+(2* (Awc/1000))\n",
    "\n",
    "\n",
    "#calculating effective width of disperssion\n",
    "def eff_width_diss(alpha,x,l,b1):\n",
    "    global two_vec\n",
    "    bef=b1+(alpha*x)*(1-(x/l))\n",
    "    print(\"effective width of dispersion for single vehicle\",round(bef,2),\"m\")\n",
    "    two_vec=2.625+2.05+(bef/2)\n",
    "    print(\"effective width of dispersion for double vehicle\",round(two_vec,2),\"m\"  )\n",
    "eff_width_diss(alpha,x,l,b1 )  \n",
    "#calculate Effective Length of Dispersion\n",
    "#-----------------------------------------------------------------------------------------\n",
    "def eff_len(area_of_vehicles,Awc,overall_depth):\n",
    "    global eff_lennt\n",
    "    eff_lennt=area_of_vehicles+2*((overall_depth/1000)+(Awc/1000))\n",
    "    print(\"effective length of dispersion \",eff_lennt,\"m\")\n",
    "eff_len(area_of_vehicles,Awc,overall_depth)\n",
    " #--------------------------------------------------------\n",
    "#wheel load will have disper area\n",
    "disper_area=eff_lennt*two_vec\n",
    "print(\"wheel load will have disper area =====\",  disper_area,\"m\")  "
   ]
  },
  {
   "cell_type": "code",
   "execution_count": 9,
   "id": "e8b5a31f-8632-438e-b99b-32636b23b762",
   "metadata": {},
   "outputs": [
    {
     "name": "stdout",
     "output_type": "stream",
     "text": [
      "Impact Factor is == 19.375 %\n",
      "Intensity of live Loading 24.194085423760228 kn/m2\n",
      "RA== 49.83981597294607 kN\n",
      "maximum Live Load Bending Movement 24 kNm\n",
      "Design Bending Movement (Mu) 25 kN/m\n",
      "effective depth required 150 mm\n"
     ]
    }
   ],
   "source": [
    "#impact factor calculations(Accding to IRC AA class loading is 25% for spans upto 5m and linearly reduce ti 10% for spans 9m\n",
    "IF=25-((25-10)/(9-5))*(6.5-5)\n",
    "print(\"Impact Factor is ==\",IF,\"%\")\n",
    "IF1=(IF/100)+1\n",
    "IF\n",
    "############################################################################################################################\n",
    "#Intensity of loading\n",
    "IL=(IF1*total_load_of_tracked)/(4.68*7.38)\n",
    "print(\"Intensity of live Loading\",IL,\"kn/m2\")\n",
    "##################################################################3\n",
    "RA=RB=(IL*eff_lennt)/2\n",
    "print(\"RA==\",RA,\"kN\")\n",
    "#MAx live load bending movement\n",
    "MLL=(RA*(l/2))-(IL*(eff_lennt/2)*(eff_lennt/4))\n",
    "print(\"maximum Live Load Bending Movement\",math.ceil(MLL),\"kNm\")\n",
    "#Design Of bending movement\n",
    "Mu=DLL+MLL\n",
    "print(\"Design Bending Movement (Mu)\",math.ceil(Mu),\"kN/m\")\n",
    "#calculate mu=Q*b*d ,effective depth required (d)\n",
    "d=math.sqrt(Mu*(10**6)/(Q*1000))\n",
    "print(\"effective depth required\",math.ceil(d),\"mm\")"
   ]
  },
  {
   "cell_type": "code",
   "execution_count": 10,
   "id": "34a9010e-a76b-4aff-a688-e9e3e66c508a",
   "metadata": {},
   "outputs": [
    {
     "name": "stdout",
     "output_type": "stream",
     "text": [
      "Area of Tension Reinforcement 915.7052674540383 mm2\n",
      "Spacing of bar 343 mm\n"
     ]
    }
   ],
   "source": [
    "#calculate Area of Tension Reinforcement\n",
    "Ast=Mu*(10**6)/(st*j*d)\n",
    "print(\"Area of Tension Reinforcement\",Ast,\"mm2\")\n",
    "#spacing of 20mm bar\n",
    "Area_of_one_bar=314#\n",
    "spacing=(1000*Area_of_one_bar)/Ast\n",
    "print(\"Spacing of bar\",math.ceil(spacing),\"mm\")"
   ]
  },
  {
   "cell_type": "code",
   "execution_count": 82,
   "id": "30e4bbe4-08d1-4653-8ef8-37943ffb9c7f",
   "metadata": {},
   "outputs": [
    {
     "data": {
      "image/png": "[encoded data removed]",
      "text/plain": [
       "<Figure size 800x200 with 1 Axes>"
      ]
     },
     "metadata": {},
     "output_type": "display_data"
    }
   ],
   "source": [
    "#live load bending movement and shear forces\n",
    "import matplotlib.pyplot as plt\n",
    "import numpy as np\n",
    "plt.figure(figsize=(8, 2))\n",
    "x=([d,overall_depth])\n",
    "y=([\"effective slab depth required\",\"effective slab depth provided\"])\n",
    "c=['red','black']\n",
    "\n",
    "plt.barh(y,x,height=0.8,color=c)\n",
    "plt.grid()\n"
   ]
  },
  {
   "cell_type": "code",
   "execution_count": 79,
   "id": "901c643d-b635-47a0-a106-b90850af49f9",
   "metadata": {},
   "outputs": [
    {
     "data": {
      "image/png": "[encoded data removed]",
      "text/plain": [
       "<Figure size 800x200 with 1 Axes>"
      ]
     },
     "metadata": {},
     "output_type": "display_data"
    }
   ],
   "source": [
    "import matplotlib.pyplot as plt\n",
    "import numpy as np\n",
    "plt.figure(figsize=(8, 2))\n",
    "x=([sp,l])\n",
    "y=([\"span provided\",\"effective span required\"])\n",
    "c=['black','c']\n",
    "plt.barh(y,x,height=0.8,color=c)\n",
    "plt.grid()\n"
   ]
  },
  {
   "cell_type": "code",
   "execution_count": 73,
   "id": "d1116d29-f3f8-428c-b047-9ac328ef124d",
   "metadata": {},
   "outputs": [
    {
     "data": {
      "image/png": "[encoded data removed]",
      "text/plain": [
       "<Figure size 800x200 with 1 Axes>"
      ]
     },
     "metadata": {},
     "output_type": "display_data"
    }
   ],
   "source": [
    "import matplotlib.pyplot as plt\n",
    "import numpy as np\n",
    "plt.figure(figsize=(8, 2))\n",
    "x=([overall_depth,Ed])\n",
    "c = ['red', 'yellow']\n",
    "y=([\"overall depth of slab \",\"effective depth of \"])\n",
    "plt.barh(y,x,height=0.8,color=c)\n",
    "plt.grid()"
   ]
  },
  {
   "cell_type": "code",
   "execution_count": 48,
   "id": "3a9f024f-ba33-4b51-a841-6a64702b38c6",
   "metadata": {},
   "outputs": [
    {
     "data": {
      "image/png": "[encoded data removed]",
      "text/plain": [
       "<Figure size 1500x100 with 1 Axes>"
      ]
     },
     "metadata": {},
     "output_type": "display_data"
    }
   ],
   "source": [
    "import matplotlib.pyplot as plt\n",
    "import numpy as np\n",
    "x=([Ast])\n",
    "y=([\"Area of Tension Reinforcement\"])\n",
    "plt.rcParams['figure.figsize'] = (15, 1)\n",
    "c = ['red', 'yellow']\n",
    "plt.figure\n",
    "plt.barh(y,x,height=0.5,color = 'pink')\n",
    "plt.grid()"
   ]
  },
  {
   "cell_type": "markdown",
   "id": "b75bf20c-7336-427a-bcd8-861636a4aa22",
   "metadata": {},
   "source": [
    "### Girder Design"
   ]
  },
  {
   "cell_type": "code",
   "execution_count": 66,
   "id": "0edfa168-d213-4ef9-98b7-5b597eb4a686",
   "metadata": {},
   "outputs": [
    {
     "name": "stdout",
     "output_type": "stream",
     "text": [
      "Design ultimate load BM for outer girder: 1862.93 kN.m\n",
      "Design ultimate load BM for inner girder: 620.98 kN.m\n",
      "Total design SF for inner girder: 4141.80 kN\n",
      "Required section modulus for outer girder: 8.20 cm^3\n",
      "Required section modulus for inner girder: 2.73 cm^3\n",
      "Total design BM for outer girder: 43779.46 kN.m\n",
      "Total design BM for inner girder: 40845.14 kN.m\n",
      "Required moment of resistance for outer girder: 24078704.95 kN.m\n",
      "Required moment of resistance for inner girder: 22464829.54 kN.m\n"
     ]
    }
   ],
   "source": [
    "\n",
    "def cal(sp,no_girders,DLL,MLL):\n",
    "    # Input variables\n",
    "    global M_inner_uls,M_outer_uls,LM_outer_uls,M_inner_uls,V_inner_design,M_outer_design,M,M_inner_design\n",
    "    L = 20        # span length (m)\n",
    "    n = no_girders         # number of girders\n",
    "    w_dl = 25     # dead load per unit length (kN/m)\n",
    "    w_ll =  MLL/100    # live load per unit length (kN/m)\n",
    "    eff_width = 8  # effective width of bridge (m)\n",
    "    gamma_f = 1.35  # partial safety factor for loads\n",
    "    gamma_m = 1.1   # partial safety factor for materials\n",
    "    fy = 250       # yield strength of steel (MPa)\n",
    "\n",
    "    # Calculate total load on bridge\n",
    "    total_load = w_dl * eff_width + w_ll * eff_width\n",
    "\n",
    "    # Calculate coefficients for outer and inner girders\n",
    "    a_outer = (n - 1) / (2 * n)\n",
    "    a_inner = 1 / n\n",
    "    b_outer = eff_width / (2 * L) * ((n - 1) / n)\n",
    "    b_inner = eff_width / (2 * L)\n",
    "\n",
    "    # Calculate reactions for outer and inner girders\n",
    "    R_outer = total_load * ((a_outer + b_outer) / (a_outer * b_inner - a_inner * b_outer))\n",
    "    R_inner = total_load - R_outer\n",
    "\n",
    "    # Calculate maximum BM and SF due to dead load\n",
    "    M_dl_max = w_dl * eff_width / 8 * L\n",
    "    V_dl_max = w_dl * eff_width / 2\n",
    "\n",
    "    # Calculate maximum BM and SF due to live load\n",
    "    M_ll_max = w_ll * eff_width / 8 * L\n",
    "    V_ll_max = w_ll * eff_width / 2\n",
    "\n",
    "    # Calculate BM and SF for outer and inner girders due to dead load\n",
    "    M_outer_dl = R_outer * (L / 2) - M_dl_max / 2\n",
    "    M_inner_dl = R_inner * (L / 2) - M_dl_max / 2\n",
    "    V_outer_dl = V_dl_max - R_outer\n",
    "    V_inner_dl = V_dl_max - R_inner\n",
    "\n",
    "    # Calculate BM and SF for outer and inner girders due to live load\n",
    "    M_outer_ll = R_outer * (L / 2) - M_ll_max / 2\n",
    "    M_inner_ll = R_inner * (L / 2) - M_ll_max / 2\n",
    "    V_outer_ll = V_ll_max - R_outer\n",
    "    V_inner_ll = V_ll_max - R_inner\n",
    "\n",
    "    # Calculate design ultimate load BM for outer girder\n",
    "    M_outer_uls = gamma_f * (1.2 * w_dl * eff_width / 8 + 1.5 * w_ll * eff_width / 8) * L**2 / 8 / gamma_m\n",
    "\n",
    "    # Calculate total design SF for outer and inner girders\n",
    "    V_outer_design = V_outer_dl + gamma_f * 1.5 * w_ll * eff_width / gamma_m\n",
    "    V_inner_design = V_inner_dl + gamma_f * 1.5 * w_ll * eff_width / gamma_m\n",
    "\n",
    "    # Calculate required section modulus for outer and inner girders\n",
    "    Z_outer_req = M_outer_uls / (fy / gamma_m)\n",
    "    Z_inner_req = (M_outer_uls / n) / (fy / gamma_m)\n",
    "\n",
    "    # Calculate design ultimate load BM for inner girder\n",
    "    M_inner_uls = M_outer_uls / n\n",
    "\n",
    "    # Calculate total design BM for outer and inner girders\n",
    "    M_outer_design = abs(max(M_outer_dl, M_outer_ll)) + M_outer_uls / gamma_f\n",
    "    M_inner_design = abs(max(M_inner_dl, M_inner_ll)) + M_inner_uls / gamma_f\n",
    "\n",
    "    # Calculate required moment of resistance for outer and inner girders\n",
    "    Mr_outer_req = M_outer_design * 10**6 / (fy * eff_width / gamma_m)\n",
    "    Mr_inner_req = M_inner_design * 10**6 / (fy * eff_width / gamma_m)\n",
    "\n",
    "\n",
    "    # Print results\n",
    "\n",
    "\n",
    "    # Print results\n",
    "    print(\"Design ultimate load BM for outer girder: {:.2f} kN.m\".format(M_outer_uls))\n",
    "    print(\"Design ultimate load BM for inner girder: {:.2f} kN.m\".format(M_inner_uls))\n",
    "    print(\"Total design SF for inner girder: {:.2f} kN\".format(V_inner_design))\n",
    "    print(\"Required section modulus for outer girder: {:.2f} cm^3\".format(Z_outer_req))\n",
    "    print(\"Required section modulus for inner girder: {:.2f} cm^3\".format(Z_inner_req))\n",
    "    print(\"Total design BM for outer girder: {:.2f} kN.m\".format(M_outer_design))\n",
    "    print(\"Total design BM for inner girder: {:.2f} kN.m\".format(M_inner_design))\n",
    "    print(\"Required moment of resistance for outer girder: {:.2f} kN.m\".format(Mr_outer_req))\n",
    "    print(\"Required moment of resistance for inner girder: {:.2f} kN.m\".format(Mr_inner_req))\n",
    "cal(sp,no_girders,DLL,MLL)\n",
    "\n"
   ]
  },
  {
   "cell_type": "code",
   "execution_count": 70,
   "id": "ff5ad313-963c-4b62-9aa6-7a452a7e590f",
   "metadata": {},
   "outputs": [
    {
     "data": {
      "image/png": "[encoded data removed]",
      "text/plain": [
       "<Figure size 800x300 with 1 Axes>"
      ]
     },
     "metadata": {},
     "output_type": "display_data"
    }
   ],
   "source": [
    "import matplotlib.pyplot as plt\n",
    "import numpy as np\n",
    "plt.figure(figsize=(8, 3))\n",
    "x=([M_outer_uls,M_inner_uls,V_inner_design,M_outer_design,M_inner_design])\n",
    "c = ['red', 'yellow','green','pink','blue']\n",
    "y=([\"ultimate load BM for outer girder\",\"ultimate load BM for inner girder\",\"Total design SF for inner girder\",\"Total design BM for outer girder\",\"Total design BM for inner girder\"])\n",
    "plt.barh(y,x,height=0.8,color=c)\n",
    "plt.grid()"
   ]
  },
  {
   "cell_type": "code",
   "execution_count": 44,
   "id": "9a014958-208d-4810-bc67-8c8fa4bb0a52",
   "metadata": {},
   "outputs": [
    {
     "name": "stdout",
     "output_type": "stream",
     "text": [
      "Reaction factor for outer girder: 314.6 kN\n",
      "Ultimate load bending moment for outer girder: 715.0 kN-m\n",
      "Ultimate load bending moment for inner girder: 715.0 kN-m\n",
      "Total design shear force for outer girder: 26.0 kN\n",
      "Total design shear force for inner girder: 26.0 kN\n"
     ]
    }
   ],
   "source": [
    "# This program calculates the reaction factors, ultimate load bending moment, total design shear force, and required area of steel for the outer and inner girders in a multi-girder bridge using Courbon's method\n",
    "\n",
    "# Get input from the user\n",
    "def cal2(DLL,MLL,sp,no_girders):\n",
    "    global outer_girder_reaction_factor,ultimate_load_bm,ultimate_load_bm,outer_girder_total_design_sf,inner_girder_total_design_sf\n",
    "    dead_load = 25\n",
    "    live_load = 20\n",
    "    span_length =20\n",
    "    number_of_girders = no_girders\n",
    "    design_load_factor =1.35  # partial safety factor for loads\n",
    "    self_weight_factor = 1.1  # partial safety factor for materials\n",
    "    steel_grade = sg\n",
    "\n",
    "    # Steel properties\n",
    "    yield_strength = steel_grade / 1.15  # Yield strength (in MPa)\n",
    "    modulus_of_elasticity = 200000  # Modulus of elasticity (in MPa)\n",
    "\n",
    "    # Calculate the total load on the bridge\n",
    "    total_load = (dead_load + live_load * design_load_factor) * self_weight_factor\n",
    "\n",
    "    # Calculate the total shear force and bending moment on the bridge\n",
    "    total_shear_force = total_load / 2\n",
    "    total_bending_moment = total_load * span_length ** 2 / 8\n",
    "\n",
    "    # Calculate the reaction factors for the outer and inner girders\n",
    "    outer_girder_reaction_factor = total_shear_force + (total_bending_moment / (span_length / (number_of_girders - 1)))\n",
    "    inner_girder_reaction_factor = total_shear_force - outer_girder_reaction_factor\n",
    "\n",
    "    # Calculate the ultimate load bending moment and total design shear force for the outer and inner girders\n",
    "    ultimate_load_bm = total_load * span_length ** 2 / (number_of_girders - 1) ** 2 / 8\n",
    "    outer_girder_total_design_sf = (dead_load / 2) + (live_load * design_load_factor / 2)\n",
    "    inner_girder_total_design_sf = outer_girder_total_design_sf\n",
    "\n",
    "    # Display the result\n",
    "    print(\"Reaction factor for outer girder:\", outer_girder_reaction_factor, \"kN\")\n",
    "    print(\"Ultimate load bending moment for outer girder:\", ultimate_load_bm, \"kN-m\")\n",
    "    print(\"Ultimate load bending moment for inner girder:\", ultimate_load_bm, \"kN-m\")\n",
    "    print(\"Total design shear force for outer girder:\", outer_girder_total_design_sf, \"kN\")\n",
    "    print(\"Total design shear force for inner girder:\", inner_girder_total_design_sf, \"kN\")\n",
    "cal2(DLL,MLL,sp,no_girders)"
   ]
  },
  {
   "cell_type": "code",
   "execution_count": 62,
   "id": "817d315b-daa4-4322-b206-bdef7c7a329a",
   "metadata": {},
   "outputs": [
    {
     "data": {
      "image/png": "[encoded data removed]",
      "text/plain": [
       "<Figure size 800x300 with 1 Axes>"
      ]
     },
     "metadata": {},
     "output_type": "display_data"
    }
   ],
   "source": [
    "import matplotlib.pyplot as plt\n",
    "import numpy as np\n",
    "plt.figure(figsize=(8, 3))\n",
    "x=([outer_girder_reaction_factor,ultimate_load_bm,ultimate_load_bm,outer_girder_total_design_sf,inner_girder_total_design_sf])\n",
    "c = ['red', 'yellow','green','pink','black']\n",
    "y=([\"outer_girder_reaction_factor\",\"ultimate_load_bm\",\"ultimate_load_bm\",\"outer_girder_total_design_sf\",\"inner_girder_total_design_sf\"])\n",
    "plt.barh(y,x,height=0.8,color=c)\n",
    "plt.grid()"
   ]
  },
  {
   "cell_type": "code",
   "execution_count": 85,
   "id": "5c1cf6ee-7c98-4f26-80b7-f5d13c91363d",
   "metadata": {},
   "outputs": [
    {
     "name": "stdout",
     "output_type": "stream",
     "text": [
      "The required area of steel for the outer girder is 253646.16 mm^2\n",
      "The required area of steel for the inner girder is 126823.08 mm^2\n"
     ]
    }
   ],
   "source": [
    "# Define the design parameters\n",
    "def ast_cal(L,cg,sg):\n",
    "    global As_outer,As_inner\n",
    "    L = L  # Span length of the bridge in meters\n",
    "    w = 1.2 # Total width of the bridge in meters\n",
    "    D = 1.5  # Depth of the girders in meters\n",
    "    fc = cg  # Concrete compressive strength in MPa\n",
    "    fy = sg  # Steel yield strength in MPa\n",
    "\n",
    "    # Calculate the maximum bending moment and shear force for the outer and inner girders\n",
    "    Mmax_outer = (w * L**2) / 8  # Maximum bending moment for the outer girder\n",
    "    Mmax_inner = (w * L**2) / 16  # Maximum bending moment for the inner girder\n",
    "    Vmax = w * L / 2  # Maximum shear force for both girders\n",
    "\n",
    "    # Determine the properties of the steel\n",
    "    f_allowable = 0.4 * fy  # Allowable stress of the steel\n",
    "\n",
    "    # Calculate the required area of steel for the outer and inner girders\n",
    "    As_outer = (Mmax_outer / (0.95 * f_allowable * D)) * 10**6  # Required area of steel for the outer girder in mm^2\n",
    "    As_inner = (Mmax_inner / (0.95 * f_allowable * D)) * 10**6  # Required area of steel for the inner girder in mm^2\n",
    "\n",
    "    # Print the results\n",
    "    print(f\"The required area of steel for the outer girder is {As_outer:.2f} mm^2\")\n",
    "    print(f\"The required area of steel for the inner girder is {As_inner:.2f} mm^2\")\n",
    "ast_cal(L,cg,sg)"
   ]
  },
  {
   "cell_type": "code",
   "execution_count": 86,
   "id": "11209b2c-fab8-41dd-bdb7-a91d4acd2af3",
   "metadata": {},
   "outputs": [
    {
     "data": {
      "image/png": "[encoded data removed]",
      "text/plain": [
       "<Figure size 800x200 with 1 Axes>"
      ]
     },
     "metadata": {},
     "output_type": "display_data"
    }
   ],
   "source": [
    "import matplotlib.pyplot as plt\n",
    "import numpy as np\n",
    "plt.figure(figsize=(8, 2))\n",
    "x=([As_outer,As_inner])\n",
    "c = ['red', 'yellow']\n",
    "y=([\"required area of steel for the outer girder \",\"required area of steel for the inner girder\"])\n",
    "plt.barh(y,x,height=0.8,color=c)\n",
    "plt.grid()"
   ]
  }
 ],
 "metadata": {
  "kernelspec": {
   "display_name": "Python 3 (ipykernel)",
   "language": "python",
   "name": "python3"
  },
  "language_info": {
   "codemirror_mode": {
    "name": "ipython",
    "version": 3
   },
   "file_extension": ".py",
   "mimetype": "text/x-python",
   "name": "python",
   "nbconvert_exporter": "python",
   "pygments_lexer": "ipython3",
   "version": "3.9.13"
  }
 },
 "nbformat": 4,
 "nbformat_minor": 5
}
